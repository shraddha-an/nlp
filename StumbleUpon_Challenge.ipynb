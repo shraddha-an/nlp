{
  "nbformat": 4,
  "nbformat_minor": 0,
  "metadata": {
    "colab": {
      "name": "StumbleUpon_Challenge.ipynb",
      "provenance": [],
      "collapsed_sections": [],
      "authorship_tag": "ABX9TyPzsGbZDICrZeksRtM0dtj0",
      "include_colab_link": true
    },
    "kernelspec": {
      "name": "python3",
      "display_name": "Python 3"
    }
  },
  "cells": [
    {
      "cell_type": "markdown",
      "metadata": {
        "id": "view-in-github",
        "colab_type": "text"
      },
      "source": [
        "<a href=\"https://colab.research.google.com/github/shraddha-an/nlp/blob/main/StumbleUpon_Challenge.ipynb\" target=\"_parent\"><img src=\"https://colab.research.google.com/assets/colab-badge.svg\" alt=\"Open In Colab\"/></a>"
      ]
    },
    {
      "cell_type": "markdown",
      "metadata": {
        "id": "RYY_yKRVsEcQ"
      },
      "source": [
        "## **1) Data Preprocessing**"
      ]
    },
    {
      "cell_type": "code",
      "metadata": {
        "id": "aeJmIAFhjBkM"
      },
      "source": [
        "# Importing libraries\n",
        "# Data Manipulation/Handling\n",
        "import pandas as pd, numpy as np\n",
        "\n",
        "# Simple NLP preprocessing\n",
        "from gensim.utils import simple_preprocess\n",
        "\n",
        "# Manipulating JSON objects\n",
        "from json import loads\n",
        "\n",
        "# Plotting\n",
        "import matplotlib.pyplot as plt, seaborn as sb\n",
        "\n",
        "# Disabling warnings\n",
        "import warnings\n",
        "warnings.filterwarnings('ignore')"
      ],
      "execution_count": 35,
      "outputs": []
    },
    {
      "cell_type": "markdown",
      "metadata": {
        "id": "ROj9JiyrAaRh"
      },
      "source": [
        "## **1) Data Preprocessing**\n"
      ]
    },
    {
      "cell_type": "code",
      "metadata": {
        "colab": {
          "base_uri": "https://localhost:8080/"
        },
        "id": "e6iQHFBcspN7",
        "outputId": "a0efbbd7-5283-455e-cd72-08361c70f5fd"
      },
      "source": [
        "# Importing datasets\n",
        "train = pd.read_csv('train.tsv', delimiter = '\\t')\n",
        "test = pd.read_csv('test.tsv', delimiter = '\\t')\n",
        "\n",
        "# Replacing every '?' with NaNs\n",
        "# Train column\n",
        "for c in train.columns:\n",
        "    train[c] = train[c].apply(lambda x: np.nan if x == '?' else x)\n",
        "\n",
        "# Test column\n",
        "for c in test.columns:\n",
        "    test[c] = test[c].apply(lambda x: np.nan if x == '?' else x)\n",
        "\n",
        "# Extracting the JSON object from string\n",
        "train['text'] = train['boilerplate'].apply(lambda x: loads(x)['body'] if loads(x)['body'] != ' ' and loads(x)['body'] != None  else loads(x)['url'])\n",
        "test['text'] = test['boilerplate'].apply(lambda x: loads(x)['body'] if loads(x)['body'] != ' ' and loads(x)['body'] != None else loads(x)['url'])\n",
        "\n",
        "test.head(3)\n",
        "\n",
        "# Looking at columns that contain NaN\n",
        "train.isna().sum()\n"
      ],
      "execution_count": 30,
      "outputs": [
        {
          "output_type": "execute_result",
          "data": {
            "text/plain": [
              "url                                  0\n",
              "urlid                                0\n",
              "boilerplate                          0\n",
              "alchemy_category                  2342\n",
              "alchemy_category_score            2342\n",
              "avglinksize                          0\n",
              "commonlinkratio_1                    0\n",
              "commonlinkratio_2                    0\n",
              "commonlinkratio_3                    0\n",
              "commonlinkratio_4                    0\n",
              "compression_ratio                    0\n",
              "embed_ratio                          0\n",
              "framebased                           0\n",
              "frameTagRatio                        0\n",
              "hasDomainLink                        0\n",
              "html_ratio                           0\n",
              "image_ratio                          0\n",
              "is_news                           2843\n",
              "lengthyLinkDomain                    0\n",
              "linkwordscore                        0\n",
              "news_front_page                   1248\n",
              "non_markup_alphanum_characters       0\n",
              "numberOfLinks                        0\n",
              "numwords_in_url                      0\n",
              "parametrizedLinkRatio                0\n",
              "spelling_errors_ratio                0\n",
              "label                                0\n",
              "text                                 0\n",
              "dtype: int64"
            ]
          },
          "metadata": {
            "tags": []
          },
          "execution_count": 30
        }
      ]
    },
    {
      "cell_type": "code",
      "metadata": {
        "id": "zqqGGWK6AlqI"
      },
      "source": [
        "# Considering only the article and the target label\n",
        "ds = train[['text', 'label']]\n",
        "df = test[['text']]\n",
        "\n",
        "# Dropping the missing text rows\n",
        "ds.dropna(inplace = True)\n",
        "df.dropna(inplace = True)\n",
        "\n",
        "# Applying gensim's simple_preprocess method to preprocess text\n",
        "ds['text'] = ds['text'].apply(lambda x: ' '.join(simple_preprocess(x)))\n",
        "df['text'] = df['text'].apply(lambda x: ' '.join(simple_preprocess(x)))\n",
        "\n",
        "# Splitting into train & test subsets\n",
        "X_train = ds.iloc[:, 0].values\n",
        "y_train = ds.iloc[:, 1].values\n",
        "\n",
        "X_test = df.iloc[:, 0].values\n"
      ],
      "execution_count": 31,
      "outputs": []
    },
    {
      "cell_type": "markdown",
      "metadata": {
        "id": "_Jw9dICJsKRC"
      },
      "source": [
        "## **2) Tokenization**"
      ]
    },
    {
      "cell_type": "code",
      "metadata": {
        "id": "ojVLHTHxrLKj"
      },
      "source": [
        "# Tokenization with Keras\n",
        "# Some parameters for embedding layer & tokenization\n",
        "vocab_size = 2100\n",
        "output_dim = 50\n",
        "sequence_length = 300\n",
        "\n",
        "# Tokenization - representing words with their indices\n",
        "from keras.preprocessing.text import Tokenizer\n",
        "\n",
        "tk = Tokenizer(num_words = vocab_size)\n",
        "tk.fit_on_texts(X_train)\n",
        "\n",
        "X_train_seq = tk.texts_to_sequences(X_train)\n",
        "X_test_seq = tk.texts_to_sequences(X_test)\n",
        "\n",
        "word_dict = tk.word_index\n",
        "\n",
        "# Padding all sequences with zeros to make them of uniform length\n",
        "from keras.preprocessing.sequence import pad_sequences\n",
        "\n",
        "X_train_seq = pad_sequences(X_train_seq, padding = 'post', maxlen = sequence_length, truncating = 'post')\n",
        "X_test_seq = pad_sequences(X_test_seq, padding = 'post', maxlen = sequence_length, truncating = 'post')\n"
      ],
      "execution_count": 32,
      "outputs": []
    },
    {
      "cell_type": "markdown",
      "metadata": {
        "id": "A4jMmaFqA4nb"
      },
      "source": [
        "## **3) Classification Neural Network**"
      ]
    },
    {
      "cell_type": "code",
      "metadata": {
        "colab": {
          "base_uri": "https://localhost:8080/"
        },
        "id": "R9SvqNFEuHrX",
        "outputId": "061e6785-57e1-473c-ac8a-ebb624a0b4d9"
      },
      "source": [
        "# Building the ANN\n",
        "from keras.models import Sequential\n",
        "from keras.layers import Embedding, Flatten, Dense\n",
        "\n",
        "model = Sequential()\n",
        "model.add(Embedding(input_dim = vocab_size, output_dim = output_dim, input_length = sequence_length))\n",
        "model.add(Flatten())\n",
        "\n",
        "model.add(Dense(units = 1, activation = 'sigmoid'))\n",
        "\n",
        "model.compile(loss = 'binary_crossentropy',\n",
        "              optimizer = 'rmsprop',\n",
        "              metrics = ['accuracy'])\n",
        "\n",
        "model.summary()\n",
        "\n",
        "history = model.fit(X_train_seq, y_train, epochs = 10, batch_size = 1024, verbose = 1)\n",
        "\n",
        "# Predictions on test set\n",
        "y_pred = model.predict_classes(X_test_seq)"
      ],
      "execution_count": 33,
      "outputs": [
        {
          "output_type": "stream",
          "text": [
            "Model: \"sequential\"\n",
            "_________________________________________________________________\n",
            "Layer (type)                 Output Shape              Param #   \n",
            "=================================================================\n",
            "embedding (Embedding)        (None, 300, 50)           105000    \n",
            "_________________________________________________________________\n",
            "flatten (Flatten)            (None, 15000)             0         \n",
            "_________________________________________________________________\n",
            "dense (Dense)                (None, 1)                 15001     \n",
            "=================================================================\n",
            "Total params: 120,001\n",
            "Trainable params: 120,001\n",
            "Non-trainable params: 0\n",
            "_________________________________________________________________\n",
            "Epoch 1/10\n",
            "8/8 [==============================] - 1s 59ms/step - loss: 0.6781 - accuracy: 0.5565\n",
            "Epoch 2/10\n",
            "8/8 [==============================] - 0s 58ms/step - loss: 0.6076 - accuracy: 0.6735\n",
            "Epoch 3/10\n",
            "8/8 [==============================] - 0s 57ms/step - loss: 0.5336 - accuracy: 0.7618\n",
            "Epoch 4/10\n",
            "8/8 [==============================] - 0s 56ms/step - loss: 0.4808 - accuracy: 0.7842\n",
            "Epoch 5/10\n",
            "8/8 [==============================] - 0s 62ms/step - loss: 0.4607 - accuracy: 0.7951\n",
            "Epoch 6/10\n",
            "8/8 [==============================] - 0s 57ms/step - loss: 0.4434 - accuracy: 0.8163\n",
            "Epoch 7/10\n",
            "8/8 [==============================] - 0s 59ms/step - loss: 0.4220 - accuracy: 0.8121\n",
            "Epoch 8/10\n",
            "8/8 [==============================] - 0s 58ms/step - loss: 0.4203 - accuracy: 0.8201\n",
            "Epoch 9/10\n",
            "8/8 [==============================] - 0s 57ms/step - loss: 0.3945 - accuracy: 0.8245\n",
            "Epoch 10/10\n",
            "8/8 [==============================] - 0s 57ms/step - loss: 0.3861 - accuracy: 0.8342\n"
          ],
          "name": "stdout"
        }
      ]
    },
    {
      "cell_type": "code",
      "metadata": {
        "colab": {
          "base_uri": "https://localhost:8080/",
          "height": 981
        },
        "id": "JcHVUnBNC6jD",
        "outputId": "4c498363-bfd2-4acd-acb8-072b3d411f34"
      },
      "source": [
        "# Plotting Accuracy & Loss over epochs\n",
        "sb.set_style('darkgrid')\n",
        "\n",
        "# 1) Accuracy\n",
        "plt.figure(figsize = (8, 8))\n",
        "plt.plot(history.history['accuracy'], label = 'Training Accuracy', color = '#E91E63')\n",
        "plt.legend(shadow = True, loc = 'center right')\n",
        "plt.title('Accuracy Plot over Epochs')\n",
        "plt.show()\n",
        "\n",
        "# 2) Loss\n",
        "plt.figure(figsize = (8, 8))\n",
        "plt.plot(history.history['loss'], label = 'Training Loss', color = '#00838F')\n",
        "plt.legend(shadow = True, loc = 'center right')\n",
        "plt.title('Loss Plot over Epochs')\n",
        "plt.show()"
      ],
      "execution_count": 40,
      "outputs": [
        {
          "output_type": "display_data",
          "data": {
            "image/png": "[encoded data removed]",
            "text/plain": [
              "<Figure size 576x576 with 1 Axes>"
            ]
          },
          "metadata": {
            "tags": []
          }
        },
        {
          "output_type": "display_data",
          "data": {
            "image/png": "[encoded data removed]",
            "text/plain": [
              "<Figure size 576x576 with 1 Axes>"
            ]
          },
          "metadata": {
            "tags": []
          }
        }
      ]
    },
    {
      "cell_type": "markdown",
      "metadata": {
        "id": "AoOQVnnUA_Zz"
      },
      "source": [
        "## **4) Saving Output CSV**"
      ]
    },
    {
      "cell_type": "code",
      "metadata": {
        "colab": {
          "base_uri": "https://localhost:8080/",
          "height": 17
        },
        "id": "VzHi2kIm3etC",
        "outputId": "f7e18956-a2e1-4c73-bf37-f108b2d2b224"
      },
      "source": [
        "# Making a sample submission CSV\n",
        "pd.DataFrame({\"urlid\":list(test['urlid']),\n",
        "              \"label\": y_pred.reshape(-1)}).to_csv(\"evergreen_final.csv\",\n",
        "                                                   index = False,\n",
        "                                                   header = True)\n",
        "              \n",
        "# Download it to local machine and upload it in the competition.\n",
        "from google.colab import files\n",
        "files.download('evergreen_final.csv') "
      ],
      "execution_count": 34,
      "outputs": [
        {
          "output_type": "display_data",
          "data": {
            "application/javascript": [
              "\n",
              "    async function download(id, filename, size) {\n",
              "      if (!google.colab.kernel.accessAllowed) {\n",
              "        return;\n",
              "      }\n",
              "      const div = document.createElement('div');\n",
              "      const label = document.createElement('label');\n",
              "      label.textContent = `Downloading \"${filename}\": `;\n",
              "      div.appendChild(label);\n",
              "      const progress = document.createElement('progress');\n",
              "      progress.max = size;\n",
              "      div.appendChild(progress);\n",
              "      document.body.appendChild(div);\n",
              "\n",
              "      const buffers = [];\n",
              "      let downloaded = 0;\n",
              "\n",
              "      const channel = await google.colab.kernel.comms.open(id);\n",
              "      // Send a message to notify the kernel that we're ready.\n",
              "      channel.send({})\n",
              "\n",
              "      for await (const message of channel.messages) {\n",
              "        // Send a message to notify the kernel that we're ready.\n",
              "        channel.send({})\n",
              "        if (message.buffers) {\n",
              "          for (const buffer of message.buffers) {\n",
              "            buffers.push(buffer);\n",
              "            downloaded += buffer.byteLength;\n",
              "            progress.value = downloaded;\n",
              "          }\n",
              "        }\n",
              "      }\n",
              "      const blob = new Blob(buffers, {type: 'application/binary'});\n",
              "      const a = document.createElement('a');\n",
              "      a.href = window.URL.createObjectURL(blob);\n",
              "      a.download = filename;\n",
              "      div.appendChild(a);\n",
              "      a.click();\n",
              "      div.remove();\n",
              "    }\n",
              "  "
            ],
            "text/plain": [
              "<IPython.core.display.Javascript object>"
            ]
          },
          "metadata": {
            "tags": []
          }
        },
        {
          "output_type": "display_data",
          "data": {
            "application/javascript": [
              "download(\"download_a4eb3240-179e-49ae-8c5e-c139a59c366c\", \"evergreen_final.csv\", 22042)"
            ],
            "text/plain": [
              "<IPython.core.display.Javascript object>"
            ]
          },
          "metadata": {
            "tags": []
          }
        }
      ]
    },
    {
      "cell_type": "markdown",
      "metadata": {
        "id": "baRIQ1ZXBXcp"
      },
      "source": [
        "## **5) Evaluating Model's performance**\n",
        "\n",
        "In this part, I will divide the training data into train/validation data with an 80:20 split. \n",
        "\n",
        "This is deliberately done so as to take a look at the model's performance metrics such as accuracy, precision and recall as the test set labels are not provided in the StumbleUpon Evergreen Classification Challenge."
      ]
    },
    {
      "cell_type": "code",
      "metadata": {
        "id": "QVXE54s8BXMv"
      },
      "source": [
        "# Dividing into train & validation datasets\n",
        "from sklearn.model_selection import train_test_split\n",
        "\n",
        "X_train, X_valid, y_train, y_valid = train_test_split(X_train, y_train, random_state = 0, test_size = 0.2)\n",
        "\n",
        "# Again, repeating the tokenization steps\n",
        "tk.fit_on_texts(X_train)\n",
        "\n",
        "X_train_seq = tk.texts_to_sequences(X_train)\n",
        "X_valid_seq = tk.texts_to_sequences(X_valid)\n",
        "\n",
        "# And padding all sequences with zeros to make them of uniform length\n",
        "X_train_seq = pad_sequences(X_train_seq, padding = 'post', maxlen = sequence_length, truncating = 'post')\n",
        "X_valid_seq = pad_sequences(X_valid_seq, padding = 'post', maxlen = sequence_length, truncating = 'post')\n"
      ],
      "execution_count": 41,
      "outputs": []
    },
    {
      "cell_type": "code",
      "metadata": {
        "colab": {
          "base_uri": "https://localhost:8080/",
          "height": 1000
        },
        "id": "3RX6vnbxCyhU",
        "outputId": "b42df89c-30dd-4c67-891e-2b9087fced0a"
      },
      "source": [
        "# Training the model again\n",
        "history_validation = model.fit(X_train_seq, y_train, epochs = 10, batch_size = 1024, verbose = 2)\n",
        "\n",
        "# Predictions on test set\n",
        "y_pred_validation = model.predict_classes(X_valid_seq)\n",
        "\n",
        "# Plotting the change in accuracy and loss over the epochs\n",
        "# 1) Accuracy\n",
        "plt.figure(figsize = (8, 8))\n",
        "plt.plot(history_validation.history['accuracy'], label = 'Training Accuracy', color = '#E91E63')\n",
        "plt.legend(shadow = True, loc = 'center right')\n",
        "plt.title('Accuracy Plot over Epochs')\n",
        "plt.show()\n",
        "\n",
        "# 2) Loss\n",
        "plt.figure(figsize = (8, 8))\n",
        "plt.plot(history_validation.history['loss'], label = 'Training Loss', color = '#00838F')\n",
        "plt.legend(shadow = True, loc = 'center right')\n",
        "plt.title('Loss Plot over Epochs')\n",
        "plt.show()"
      ],
      "execution_count": 47,
      "outputs": [
        {
          "output_type": "stream",
          "text": [
            "Epoch 1/10\n",
            "6/6 - 0s - loss: 0.0926 - accuracy: 0.9699\n",
            "Epoch 2/10\n",
            "6/6 - 0s - loss: 0.0895 - accuracy: 0.9701\n",
            "Epoch 3/10\n",
            "6/6 - 0s - loss: 0.0892 - accuracy: 0.9689\n",
            "Epoch 4/10\n",
            "6/6 - 0s - loss: 0.0828 - accuracy: 0.9721\n",
            "Epoch 5/10\n",
            "6/6 - 0s - loss: 0.0799 - accuracy: 0.9752\n",
            "Epoch 6/10\n",
            "6/6 - 0s - loss: 0.0777 - accuracy: 0.9758\n",
            "Epoch 7/10\n",
            "6/6 - 0s - loss: 0.0748 - accuracy: 0.9757\n",
            "Epoch 8/10\n",
            "6/6 - 0s - loss: 0.0747 - accuracy: 0.9731\n",
            "Epoch 9/10\n",
            "6/6 - 0s - loss: 0.0717 - accuracy: 0.9757\n",
            "Epoch 10/10\n",
            "6/6 - 0s - loss: 0.0689 - accuracy: 0.9779\n"
          ],
          "name": "stdout"
        },
        {
          "output_type": "display_data",
          "data": {
            "image/png": "[encoded data removed]",
            "text/plain": [
              "<Figure size 576x576 with 1 Axes>"
            ]
          },
          "metadata": {
            "tags": []
          }
        },
        {
          "output_type": "display_data",
          "data": {
            "image/png": "[encoded data removed]",
            "text/plain": [
              "<Figure size 576x576 with 1 Axes>"
            ]
          },
          "metadata": {
            "tags": []
          }
        }
      ]
    },
    {
      "cell_type": "markdown",
      "metadata": {
        "id": "uEC8aHV0Evlu"
      },
      "source": [
        "### **Classification Metrics**"
      ]
    },
    {
      "cell_type": "code",
      "metadata": {
        "colab": {
          "base_uri": "https://localhost:8080/"
        },
        "id": "pl2omE-BD94R",
        "outputId": "628e19e1-92e1-461b-b02d-100db5239f0a"
      },
      "source": [
        "# Metrics\n",
        "from sklearn.metrics import accuracy_score, precision_score, recall_score, classification_report as cr\n",
        "\n",
        "accuracy = accuracy_score(y_valid, y_pred_validation)\n",
        "precision = precision_score(y_valid, y_pred_validation)\n",
        "recall = recall_score(y_valid, y_pred_validation)\n",
        "\n",
        "classification_report = cr(y_valid, y_pred_validation)\n",
        "\n",
        "print('Accuracy: {}\\nPrecision: {}\\nRecall: {}\\n'.format(accuracy, precision, recall))\n",
        "print('\\n', classification_report)"
      ],
      "execution_count": 49,
      "outputs": [
        {
          "output_type": "stream",
          "text": [
            "Accuracy: 0.7816091954022989\n",
            "Precision: 0.818705035971223\n",
            "Recall: 0.7428198433420365\n",
            "\n",
            "\n",
            "               precision    recall  f1-score   support\n",
            "\n",
            "           0       0.75      0.82      0.78       713\n",
            "           1       0.82      0.74      0.78       766\n",
            "\n",
            "    accuracy                           0.78      1479\n",
            "   macro avg       0.78      0.78      0.78      1479\n",
            "weighted avg       0.78      0.78      0.78      1479\n",
            "\n"
          ],
          "name": "stdout"
        }
      ]
    }
  ]
}